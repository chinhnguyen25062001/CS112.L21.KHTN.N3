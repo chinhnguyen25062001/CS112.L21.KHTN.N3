{
  "nbformat": 4,
  "nbformat_minor": 0,
  "metadata": {
    "colab": {
      "name": "Taobien.ipynb",
      "provenance": []
    },
    "kernelspec": {
      "name": "python3",
      "display_name": "Python 3"
    },
    "language_info": {
      "name": "python"
    }
  },
  "cells": [
    {
      "cell_type": "markdown",
      "metadata": {
        "id": "jaVUD38HVE7H"
      },
      "source": [
        "# **TẢO BIỂN**"
      ]
    },
    {
      "cell_type": "markdown",
      "metadata": {
        "id": "5wCdtGg_SgBs"
      },
      "source": [
        "# **ĐỀ BÀI**\n",
        " Tảo biển sinh sản rất nhanh khi có môi trường thuận lợi với chúng và có những loài còn tiết ra môi trường những chất độc hại. Một loại tảo nâu trong môi trường nước bị ô nhiễm nặng sinh sản theo quy luật sau:\n",
        "Ngày đầu tiên (ngày 0) có n cá thể ở mức 1\n",
        "Ở mỗi ngày tiếp theo, mỗi cá thể mức i sinh ra i cá thể mức 1, các cá thể mới sinh sẽ sinh sôi, phát triển từ ngày hôm sau\n",
        "Bản thân các cá thể mức i phát triển thành mức i+1 và chu kì phát triển trong ngày chấm dứt\n",
        "\n",
        "Hãy xác định sau k ngày trong nước biển có bao nhiêu cá thể\n",
        "\n",
        "**Dữ liệu:** Vào từ thiết bị nhập chuẩn gồm một dòng chứa 2 số nguyên n và k (1<=n<=1000, 1 ≤ k ≤ 10^5)\n",
        "\n",
        "**Kết quả:** Đưa ra thiết bị xuất chuẩn gồm một số nguyên - số lượng cá thể tảo theo mô đun 10^9+7"
      ]
    },
    {
      "cell_type": "markdown",
      "metadata": {
        "id": "o05aRsGPVRD3"
      },
      "source": [
        "# **I.Abstraction**\n",
        "T(n,k) = n*f(2k)) với n,k nguyên từ input; f(a)= f(a-1)+f(a-2) với \n",
        "f(0)=1, f(1)=1, a≥0; T(n,k) là kết quả output"
      ]
    },
    {
      "cell_type": "markdown",
      "metadata": {
        "id": "leNK9X-lXJcI"
      },
      "source": [
        "# **II.Pattern Recognition**\n",
        "**Bài toán:** Tìm f(i) với i là chỉ số của phần tử cần tìm trong dãy fibonacci\n",
        "\n",
        "**Đặc điểm:** Giá trị của 1 phần tử trong dãy sẽ bằng tổng giá trị 2 phần tử liền trước nó "
      ]
    },
    {
      "cell_type": "markdown",
      "metadata": {
        "id": "Ca2kx-11YNOP"
      },
      "source": [
        "# **III.Algorithm Design**\n"
      ]
    },
    {
      "cell_type": "markdown",
      "metadata": {
        "id": "se4iMqCTYc6O"
      },
      "source": [
        "# **IV.Độ phức tạp thuật toán**: O(n)\n"
      ]
    },
    {
      "cell_type": "markdown",
      "metadata": {
        "id": "X1FQAQKmajp2"
      },
      "source": [
        "# **V.Programming:**\n"
      ]
    },
    {
      "cell_type": "code",
      "metadata": {
        "id": "yQGC0_MCatpX"
      },
      "source": [
        "def fibonacci(n):\n",
        "    b = 1\n",
        "    c = 1\n",
        "    if (n == 0):\n",
        "        return 1\n",
        "    if ( n == 1):\n",
        "        return 1\n",
        "    i = 2\n",
        "    while (i <= n):\n",
        "        a = b + c\n",
        "        b=c\n",
        "        c = a\n",
        "        i=i+1\n",
        "    return a\n",
        "[n,k] = [int(x) for x in input().split()]\n",
        "print((n*fibonacci(2*k))%(10**9+7))"
      ],
      "execution_count": null,
      "outputs": []
    }
  ]
}