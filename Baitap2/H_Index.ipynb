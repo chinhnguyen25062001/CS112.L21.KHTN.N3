{
  "nbformat": 4,
  "nbformat_minor": 0,
  "metadata": {
    "colab": {
      "name": "H_Index.ipynb",
      "provenance": []
    },
    "kernelspec": {
      "name": "python3",
      "display_name": "Python 3"
    },
    "language_info": {
      "name": "python"
    }
  },
  "cells": [
    {
      "cell_type": "markdown",
      "metadata": {
        "id": "NtE0YsMsnEEB"
      },
      "source": [
        "# **H_Index**"
      ]
    },
    {
      "cell_type": "markdown",
      "metadata": {
        "id": "zbZw5jDynJrp"
      },
      "source": [
        "# **Đề bài**\n",
        "\n",
        "Làm thế nào để đánh giá sự thành công của một nhà khoa học?  Dựa vào số bài báo được công bố hay dựa vào số lần một bài báo được trích dẫn tới ở công trình của những người khác? Cả hai tham số đó đều quan trọng.\n",
        "\n",
        "Một bài báo có điểm số trích dẫn là **c** nếu nó được trích dẫn tới **c** lần trong các công trình của những nhà khoa học khác. Một trong số các cách đánh giá sự thành công của một nhà khoa học là tính chỉ số ảnh hưởng **H_Index** dựa trên sự kết hợp giữa số lượng bài báo và chỉ số trích dẫn của các bài báo đó.\n",
        "\n",
        "Chỉ số **H_Index** của một nhà khoa học bằng **k** lớn nhất nếu người đó có **k** bài báo, mỗi bài có điểm số trích dẫn không nhỏ hơn **k**. Ví dụ, một người có 10 bài báo, mỗi bài báo được trích dẫn không dưới 10 lần thì **H_Index** của người đó ít nhất là bằng 10.\n",
        "\n",
        "Một người có **n** bài báo, bài báo thứ i có điểm trích dẫn là $c_i$, **i** = 1 ÷ **n**. Hãy xác định **H_Index** của người đó.\n",
        "\n",
        "**Dữ liệu:** Vào từ thiết bị nhập chuẩn:\n",
        "\n",
        "Dòng đầu tiên chứa một số nguyên **n** (1 ≤ **n** ≤ 5×$10^5$),\n",
        "Dòng thứ 2 chứa **n** số nguyên $c_1$, $c_2$, . . ., $c_n$ (0 ≤ $c_i$ ≤ 106, **i** = 1 ÷ **n**).\n",
        "Kết quả: Đưa ra thiết bị xuất chuẩn một số nguyên – **H_Index** tìm được."
      ]
    },
    {
      "cell_type": "markdown",
      "metadata": {
        "id": "o9M85j7uoYMi"
      },
      "source": [
        "# **I.Abstraction**"
      ]
    },
    {
      "cell_type": "markdown",
      "metadata": {
        "id": "VgwqUSQboccZ"
      },
      "source": [
        "# **II.Pattern Recognition**"
      ]
    },
    {
      "cell_type": "markdown",
      "metadata": {
        "id": "GJnhvKfIojXx"
      },
      "source": [
        "# **III.Algorithm Design**"
      ]
    },
    {
      "cell_type": "markdown",
      "metadata": {
        "id": "kCGh27OLonuo"
      },
      "source": [
        "# **IV.Đánh giá độ phức tạp**"
      ]
    },
    {
      "cell_type": "markdown",
      "metadata": {
        "id": "AYhyjW8ooq0J"
      },
      "source": [
        "# **V.Programming**"
      ]
    },
    {
      "cell_type": "code",
      "metadata": {
        "colab": {
          "base_uri": "https://localhost:8080/"
        },
        "id": "wFZQ8RWho8x6",
        "outputId": "b6af542a-5052-4f78-964b-aeba8fe4a1a1"
      },
      "source": [
        "n = int(input())\n",
        "a=[]\n",
        "a = [int(x) for x in input().split()]\n",
        "a.sort()\n",
        "index=len(a)\n",
        "while(index>0):\n",
        "  if(a[len(a)-index]<index):\n",
        "    index=index-1\n",
        "  else:\n",
        "    print(index)\n",
        "    break\n",
        "else:\n",
        "  print(0)"
      ],
      "execution_count": 1,
      "outputs": [
        {
          "output_type": "stream",
          "text": [
            "5\n",
            "5 8 3 4 10\n",
            "4\n"
          ],
          "name": "stdout"
        }
      ]
    }
  ]
}