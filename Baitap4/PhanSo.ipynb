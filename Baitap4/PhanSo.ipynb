{
  "nbformat": 4,
  "nbformat_minor": 0,
  "metadata": {
    "colab": {
      "name": "PhanSo.ipynb",
      "provenance": []
    },
    "kernelspec": {
      "name": "python3",
      "display_name": "Python 3"
    },
    "language_info": {
      "name": "python"
    }
  },
  "cells": [
    {
      "cell_type": "markdown",
      "metadata": {
        "id": "0sh1jBu_Bc1T"
      },
      "source": [
        "# **PHÂN SỐ**"
      ]
    },
    {
      "cell_type": "markdown",
      "metadata": {
        "id": "uQu3511wBfcC"
      },
      "source": [
        "# **Đề bài**\n",
        "Cho 2 phân số đúng và tối giản $\\frac{a}{b}$, $\\frac{c}{d}$. Mỗi phép biến đổi là tăng **a** và **b** lên 1, sau đó giản ước phân số nhận được.\n",
        "\n",
        "Hãy xác định sau bao nhiêu bước biến đổi từ phân số thứ nhất ban đầu nhận được phân số thứ 2 đã cho.\n",
        "\n",
        "**Dữ liệu:** Vào từ thiết bị nhập chuẩn gồm 4 dòng, mỗi dòng chứa 1 số nguyên **a**, **b**, **c**, **d**, 0 < **a** < **b** ≤$10^5$, 0 < **c** < **d** ≤ $10^5$, **a** và **b** nguyên tố cùng nhau, **c** và **d** nguyên tố cùng nhau $\\frac{a}{b}$  ≠ $\\frac{c}{d}$\n",
        "\n",
        "**Kết quả:** Đưa ra thiết bị xuất chuẩn số 0 nếu không có cách biến đổi hoặc một số nguyên – số lượng phép biến đổi."
      ]
    },
    {
      "cell_type": "markdown",
      "metadata": {
        "id": "4jgN9giDCh0c"
      },
      "source": [
        "# **I.Abstraction**"
      ]
    },
    {
      "cell_type": "markdown",
      "metadata": {
        "id": "Mfcc6bKTCkrS"
      },
      "source": [
        "# **II.Pattern Recognition**"
      ]
    },
    {
      "cell_type": "markdown",
      "metadata": {
        "id": "kObJ7eEgCnaD"
      },
      "source": [
        "# **III.Algorithm Design**"
      ]
    },
    {
      "cell_type": "markdown",
      "metadata": {
        "id": "NDbUxAlLCp-7"
      },
      "source": [
        "# **IV.Đánh giá độ phức tạp**"
      ]
    },
    {
      "cell_type": "markdown",
      "metadata": {
        "id": "UUzSadoR4Jfg"
      },
      "source": [
        "# **V.Programming**"
      ]
    }
  ]
}