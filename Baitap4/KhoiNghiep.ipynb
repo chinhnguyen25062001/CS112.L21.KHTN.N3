{
  "nbformat": 4,
  "nbformat_minor": 0,
  "metadata": {
    "colab": {
      "name": "KhoiNghiep.ipynb",
      "provenance": []
    },
    "kernelspec": {
      "name": "python3",
      "display_name": "Python 3"
    },
    "language_info": {
      "name": "python"
    }
  },
  "cells": [
    {
      "cell_type": "markdown",
      "metadata": {
        "id": "0sh1jBu_Bc1T"
      },
      "source": [
        "# **KHỞI NGHIỆP**"
      ]
    },
    {
      "cell_type": "markdown",
      "metadata": {
        "id": "uQu3511wBfcC"
      },
      "source": [
        "# **Đề bài**\n",
        "Sau thời gian làm việc tại nhà (work from home) do tình hình dịch bệnh, công ty **X** nhận thấy đây là cơ hội để thay đổi mô hình làm việc của công ty để hướng tới tính đơn giản, hiệu quả cao hơn trong công việc. Cụ thể, công ty hiện tại gồm **n** nhân viên. Có **m** quan hệ dạng (**$a_i$**, **$b_i$**) trong đó người bi nhận công việc từ người **$a_i$** và **$b_i$** chỉ đạo cho **$b_i$**. Mỗi nhân viên khi nhận việc có thể phân công cho những nhân viên do mình chỉ đạo. Nếu công viêc từ **a** có thể tới được **b**, ta gọi **a** là cấp trên của **b** và **b** là cấp dưới của **a**.\n",
        "\n",
        "Sau khi họp đại hội cổ ccông trực tuyến, công ty **X** quyết định thực hiện tái cấu trúc như sau:\n",
        "\n",
        "Thứ nhất, chọn ra một giám đốc, người này phải là người không có cấp trên và công việc mà người này phân công có thể tới được mọi người trong công ty;\n",
        "Những người còn lại, mỗi người sẽ chỉ còn nhận việc trực tiếp từ đúng 1 người. Để tránh xáo trộn trong hoạt động sau khi thực hiện thay đổi, với mỗi người, tập những người là cấp trên của người đó phải không thay đổi (so với trước khi thực hiện tái cấu trúc).\n",
        "Yêu cầu: Xác định công ty X có thể tái cấu trúc hay không, nếu không được - đưa ra thông báo “**No**”. Trong trường hợp có thể – đưa ra thông báo “**Yes**” và chỉ ra dãy số **$p_i$** xác định người có quyền phân công công việc cho người i (1 ≤ **i** ≤ **n**). Với Giám đốc **$p_i$** tương ứng có giá trị là **-1**.\n",
        "\n",
        "**Dữ liệu:** Vào từ file thiết bị nhập chuẩn:\n",
        "\n",
        "Dòng đầu tiên chứa 2 số nguyên **n** và **m** (1 ≤ **n**, **m** ≤ 5×$10^5$),\n",
        "\n",
        "Dòng thứ **i** trong **m** dòng sau chứa 2 số nguyên **$a_i$** và **$b_i$** (1 ≤ **$a_i$**, **$b_i$** ≤ **n**, **$a_i$** ≠ **$b_i$**).\n",
        "\n",
        "**Kết quả:** Đưa ra thiết bị xuất chuẩn thông báo “**No**” hoặc “**Yes**”. Nếu kết quả là “**Yes**” – trên dòng thứ 2 đưa ra n số nguyên **$p_1$**, **$p_2$**, ..., **$p_n$** tương ứng."
      ]
    },
    {
      "cell_type": "markdown",
      "metadata": {
        "id": "4jgN9giDCh0c"
      },
      "source": [
        "# **I.Abstraction**"
      ]
    },
    {
      "cell_type": "markdown",
      "metadata": {
        "id": "Mfcc6bKTCkrS"
      },
      "source": [
        "# **II.Pattern Recognition**"
      ]
    },
    {
      "cell_type": "markdown",
      "metadata": {
        "id": "kObJ7eEgCnaD"
      },
      "source": [
        "# **III.Algorithm Design**"
      ]
    },
    {
      "cell_type": "markdown",
      "metadata": {
        "id": "NDbUxAlLCp-7"
      },
      "source": [
        "# **IV.Đánh giá độ phức tạp**"
      ]
    },
    {
      "cell_type": "markdown",
      "metadata": {
        "id": "UUzSadoR4Jfg"
      },
      "source": [
        "# **V.Programming**"
      ]
    }
  ]
}