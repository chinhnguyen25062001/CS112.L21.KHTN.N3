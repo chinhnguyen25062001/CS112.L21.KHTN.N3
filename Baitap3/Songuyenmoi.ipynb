{
  "nbformat": 4,
  "nbformat_minor": 0,
  "metadata": {
    "colab": {
      "name": "Songuyenmoi.ipynb",
      "provenance": []
    },
    "kernelspec": {
      "name": "python3",
      "display_name": "Python 3"
    },
    "language_info": {
      "name": "python"
    }
  },
  "cells": [
    {
      "cell_type": "markdown",
      "metadata": {
        "id": "bnXvapcxI9OQ"
      },
      "source": [
        "# **SỐ NGUYÊN MỚI**\n",
        "\n",
        "**ĐỀ BÀI**\n",
        "\n",
        "Cho số nguyên dương **n** có không quá 100 chữ số. Hãy xác định số nguyên lớn nhất **m** chia hết cho 3 và khác **n** ở đúng một chữ số.\n",
        "\n",
        "Ví dụ, **n** = 123 thì **m** sẽ là 723.\n",
        "\n",
        "**Dữ liệu:** Vào từ thiết bị nhập chuẩn gồm một dòng chứa số nguyên **n** có không quá 100 chữ số và không chứa các số 0 không có nghĩa.\n",
        "\n",
        "**Kết quả:** Đưa ra thiết bị xuất chuẩn số nguyên **m** tìm được.\n"
      ]
    },
    {
      "cell_type": "markdown",
      "metadata": {
        "id": "DpKk4odxJ_Z2"
      },
      "source": [
        "# **I.Abstraction**"
      ]
    },
    {
      "cell_type": "markdown",
      "metadata": {
        "id": "XaaldnVCKE1t"
      },
      "source": [
        "# **II.Pattern Recognition**"
      ]
    },
    {
      "cell_type": "markdown",
      "metadata": {
        "id": "UjdJfHy_KMEG"
      },
      "source": [
        "# **III.Algorithm Design**"
      ]
    },
    {
      "cell_type": "markdown",
      "metadata": {
        "id": "irQAw1B8KP3d"
      },
      "source": [
        "# **IV.Độ phức tạp thuật toán**"
      ]
    },
    {
      "cell_type": "markdown",
      "metadata": {
        "id": "Skaqm5-RKTTd"
      },
      "source": [
        "# **V.Programming:**"
      ]
    }
  ]
}