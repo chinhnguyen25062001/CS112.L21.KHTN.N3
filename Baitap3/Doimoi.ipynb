{
  "nbformat": 4,
  "nbformat_minor": 0,
  "metadata": {
    "colab": {
      "name": "Doimoi.ipynb",
      "provenance": []
    },
    "kernelspec": {
      "name": "python3",
      "display_name": "Python 3"
    },
    "language_info": {
      "name": "python"
    }
  },
  "cells": [
    {
      "cell_type": "markdown",
      "metadata": {
        "id": "bnXvapcxI9OQ"
      },
      "source": [
        "# **ĐỔI MỚI**\n",
        "\n",
        "**ĐỀ BÀI**\n",
        "\n",
        "Thành phố quyết định chặt hạ hết **n** cây xanh hiện có trong thành phố để trồng chỉ một loại cây mới. Nhiệm vụ được giao cho Công ty Cây xanh thành phố. Do hạn chế về thiết bị Công ty chỉ tổ chức được 2 đội đốn hạ cây. Đội I hạ được **a** cây mỗi ngày, nhưng cứ mối ngày thứ **k** thì phải nghỉ để bảo dưỡng kỹ thuật, tức là đội I sẽ nghỉ vào các ngày **k**, 2**k**, 3**k**, . . . Đội II hạ được **b** cây mỗi ngày, nhưng cứ mỗi ngày thứ **m** thì phải nghỉ để bảo dưỡng kỹ thuật, tức là đội II sẽ nghỉ vào các ngày **m**, 2**m**, 3**m**, . . . Ở ngày nghỉ, số cây chặt hạ của đội sẽ là 0. Cả hai đội bắt đầu công việc vào cùng một ngày và làm việc song song với nhau.\n",
        "\n",
        "Công việc trồng cây mới sẽ bắt đầu sau khi toàn bộ cây cũ đã bị đốn hạ.\n",
        "\n",
        "Hãy xác định sau bao nhiêu ngày thì có thể bắt đầu việc trồng mới cây.\n",
        "\n",
        "Dữ liệu: Vào từ thiết bị nhập chuẩn gồm một dòng chứa 5 số nguyên **a**, **k**, **b**, **m** và **n** (1 ≤ **a**, **b** ≤ $10^9$, 2 ≤ **k**, **m** ≤ 10$^1$$^8$, 1 ≤ n ≤   \n",
        "\n",
        "$10^18$).\n",
        "\n",
        "Kết quả: Đưa ra thiết bị xuất chuẩn một số nguyên – số ngày tính được."
      ]
    },
    {
      "cell_type": "markdown",
      "metadata": {
        "id": "DpKk4odxJ_Z2"
      },
      "source": [
        "# **I.Abstraction**"
      ]
    },
    {
      "cell_type": "markdown",
      "metadata": {
        "id": "XaaldnVCKE1t"
      },
      "source": [
        "# **II.Pattern Recognition**"
      ]
    },
    {
      "cell_type": "markdown",
      "metadata": {
        "id": "UjdJfHy_KMEG"
      },
      "source": [
        "# **III.Algorithm Design**"
      ]
    },
    {
      "cell_type": "markdown",
      "metadata": {
        "id": "irQAw1B8KP3d"
      },
      "source": [
        "# **IV.Độ phức tạp thuật toán**"
      ]
    },
    {
      "cell_type": "markdown",
      "metadata": {
        "id": "Skaqm5-RKTTd"
      },
      "source": [
        "# **V.Programming:**"
      ]
    }
  ]
}
